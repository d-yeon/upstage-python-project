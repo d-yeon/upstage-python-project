{
 "cells": [
  {
   "cell_type": "markdown",
   "metadata": {},
   "source": [
    "## SRT 예매 프로그램\n",
    "- 프로그램으로 개인이 예매하는 건 문제가 안된다. -> 코드를 판매하거나 또는 표를 사서 비싸게 파는 행위는 처벌\n",
    "- 석, 박사 분들이 대신 논문 관련 코드를 작성을 해달라고 할 때가 있는데. -> 이건 가능함.\n",
    "- 대학생들이 졸업 논문용 코드를 짜달라. -> 이건 문제가 됨. "
   ]
  },
  {
   "cell_type": "code",
   "execution_count": 41,
   "metadata": {},
   "outputs": [],
   "source": [
    "# library import\n",
    "from selenium import webdriver\n",
    "from selenium.webdriver.common.by import By\n",
    "import time"
   ]
  },
  {
   "cell_type": "code",
   "execution_count": 23,
   "metadata": {},
   "outputs": [],
   "source": [
    "browser = webdriver.Chrome()"
   ]
  },
  {
   "cell_type": "code",
   "execution_count": 25,
   "metadata": {},
   "outputs": [],
   "source": [
    "url = 'https://etk.srail.kr/cmc/01/selectLoginForm.do?pageId=TK0701000000'\n",
    "browser.get(url)"
   ]
  },
  {
   "cell_type": "code",
   "execution_count": 26,
   "metadata": {},
   "outputs": [],
   "source": [
    "browser.find_element(By.ID, 'srchDvCd1').click()"
   ]
  },
  {
   "cell_type": "code",
   "execution_count": 27,
   "metadata": {},
   "outputs": [],
   "source": [
    "browser.find_element(By.ID, 'srchDvNm01').click()\n",
    "browser.find_element(By.ID, 'srchDvNm01').send_keys('1892096849')"
   ]
  },
  {
   "cell_type": "code",
   "execution_count": 28,
   "metadata": {},
   "outputs": [],
   "source": [
    "browser.find_element(By.ID, 'hmpgPwdCphd01').click()\n",
    "browser.find_element(By.ID, 'hmpgPwdCphd01').send_keys('doyeon96^^')"
   ]
  },
  {
   "cell_type": "code",
   "execution_count": 29,
   "metadata": {},
   "outputs": [],
   "source": [
    "browser.find_element(By.XPATH, '//*[@id=\"login-form\"]/fieldset/div[1]/div[1]/div[2]/div/div[2]/input').click()"
   ]
  },
  {
   "cell_type": "code",
   "execution_count": 30,
   "metadata": {},
   "outputs": [],
   "source": [
    "# 예매 조회 페이지\n",
    "url = 'https://etk.srail.kr/hpg/hra/01/selectScheduleList.do?pageId=TK0101010000'\n",
    "browser.get(url)"
   ]
  },
  {
   "cell_type": "code",
   "execution_count": 31,
   "metadata": {},
   "outputs": [],
   "source": [
    "# 내가 가고자하는 도착 지역 변경\n",
    "browser.find_element(By.ID, 'arvRsStnCdNm').click()\n",
    "browser.find_element(By.ID, 'arvRsStnCdNm').clear()\n",
    "browser.find_element(By.ID, 'arvRsStnCdNm').send_keys('창원중앙')"
   ]
  },
  {
   "cell_type": "code",
   "execution_count": 38,
   "metadata": {},
   "outputs": [],
   "source": [
    "# 22시로 변경\n",
    "browser.find_element(By.XPATH, '//*[@id=\"dptTm\"]/option[7]').click()"
   ]
  },
  {
   "cell_type": "code",
   "execution_count": null,
   "metadata": {},
   "outputs": [],
   "source": [
    "# 코딩 짱 -> 국가로 봤을 때=> 인도, 중국 // SW 강국 => 미국. 기획, 기술력.\n",
    "# 기술은 기술일 뿐. 기술을 어떻게 활용할 것인지가 굉장히 중요함.\n",
    "# 스텔스 기능을 어떻게 만들 것인가? -> 아이디어임. (어떻게 구현할 것인가에 대한 아이디어가 중요함.)\n",
    "\n",
    "# 100줄 코드로 해결하는 것 보다, 기획력으로 코드를 안써도 되는 게 더 좋은 것 아닌가?? "
   ]
  },
  {
   "cell_type": "code",
   "execution_count": 39,
   "metadata": {},
   "outputs": [],
   "source": [
    "browser.find_element(By.ID, 'search_top_tag').find_element(By.TAG_NAME, 'input').click()\n",
    "\n",
    "# XPATH 사용\n",
    "# browser.find_element(By.XPATH, '//*[@id=\"search_top_tag\"]/input')\n",
    "\n",
    "# XPATH 복사랑 XPATH 전체 복사랑 차이? \n",
    "    # 둘 다 실행은 가능함. 코드가 간단함. (XPATH)\n",
    "# XPATH 강력한데 왜 class를 섞어 쓰는지?\n",
    "    # -xpath: 싱글 데이터 // 마우스 오른쪽 클릭 -> 요소복사 -> xpath\n",
    "    # -class: 멀티 데이터 # react "
   ]
  },
  {
   "cell_type": "code",
   "execution_count": null,
   "metadata": {},
   "outputs": [],
   "source": [
    "num = 0\n",
    "while True:\n",
    "    num += 1\n",
    "    elem = browser.find_element(By.XPATH, '//*[@id=\"result-form\"]/fieldset/div[6]/table/tbody/tr[1]/td[6]/a')\n",
    "    print(f\"{num} 번째 반복 중입니다.\")\n",
    "\n",
    "    if elem.text == '매진':\n",
    "        browser.refresh()\n",
    "        time.sleep(1)\n",
    "    else:\n",
    "        elem.click()\n",
    "        break\n",
    "else:\n",
    "    print(\"예매 버튼 클릭 완료!!! -> 슬렉으로 메시지 보내기.\")"
   ]
  }
 ],
 "metadata": {
  "kernelspec": {
   "display_name": ".venv",
   "language": "python",
   "name": "python3"
  },
  "language_info": {
   "codemirror_mode": {
    "name": "ipython",
    "version": 3
   },
   "file_extension": ".py",
   "mimetype": "text/x-python",
   "name": "python",
   "nbconvert_exporter": "python",
   "pygments_lexer": "ipython3",
   "version": "3.11.4"
  }
 },
 "nbformat": 4,
 "nbformat_minor": 2
}
